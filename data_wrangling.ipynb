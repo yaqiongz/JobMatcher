{
 "cells": [
  {
   "cell_type": "markdown",
   "metadata": {},
   "source": [
    "# Capstone 2. Data cleaning & storytelling\n",
    "\n",
    "July, 2018\n",
    "***\n",
    "\n",
    "\n",
    "**Objective:** As I mentioned in the proposal, the major goal of this capstone project is to help job seekers, especially those new graduates with not previous job experience, find their dream job based on their answers to our questionnaire. Because extensive web scrap is perhibited in those major job posting website such as Linkedin and indeed, I chose an job description data set from Kaggle.com. Data source: [kaggle dataset](https://www.kaggle.com/PromptCloudHQ/us-jobs-on-monstercom)\n",
    "\n",
    "Questionnaire will cover those aspects:\n",
    "- Industry \n",
    "- Location\n",
    "- Culture\n",
    "\n",
    "Each aspect need the user a number indicating the level of the importance.\n",
    "\n",
    "And finally, we will do a matching between job descriptions and the answer of the questionnaire.\n",
    "***\n",
    "*For example: *\n",
    "\n",
    "I may answer the questionnaire in this way:\n",
    "\n",
    "- Industry = art; artificial intelligence. Weight = 40%\n",
    "- Location = big cities; eastern coast. Weight = 20%\n",
    "- Culture = innovation; open. Weight = 40%\n",
    "\n",
    "And I hope to get job recommendations from this project."
   ]
  },
  {
   "cell_type": "code",
   "execution_count": 11,
   "metadata": {
    "collapsed": true
   },
   "outputs": [],
   "source": [
    "%matplotlib inline\n",
    "import pandas as pd\n",
    "import numpy as np\n",
    "import re\n",
    "import matplotlib.pyplot as plt\n",
    "from collections import Counter\n",
    "from tqdm import tqdm\n",
    "\n",
    "import nltk\n",
    "from nltk.stem import PorterStemmer\n",
    "from time import sleep\n",
    "import math\n",
    "import seaborn as sns\n",
    "\n",
    "plt.style.use('fivethirtyeight')"
   ]
  },
  {
   "cell_type": "markdown",
   "metadata": {},
   "source": [
    "# Section 1: The dataset"
   ]
  },
  {
   "cell_type": "code",
   "execution_count": 12,
   "metadata": {
    "scrolled": true
   },
   "outputs": [
    {
     "name": "stdout",
     "output_type": "stream",
     "text": [
      "There are 22000 job decriptions in the dataset.\n",
      "The jobs are located in those country:  US\n",
      "3446 out of 22000 job descriptions are tagged with a salary\n"
     ]
    }
   ],
   "source": [
    "# import the dataset and see how it looks like\n",
    "df = pd.read_csv('monster_com-job_sample 2.csv')\n",
    "\n",
    "# some basic inforamtion\n",
    "print('There are {:d} job decriptions in the dataset.'.format(df.shape[0]))\n",
    "print('The jobs are located in those country: ', df.country_code.unique().item())\n",
    "print('{:d} out of 22000 job descriptions are tagged with a salary'.format(22000-sum(df.salary.isnull())))"
   ]
  },
  {
   "cell_type": "code",
   "execution_count": 13,
   "metadata": {},
   "outputs": [
    {
     "data": {
      "text/html": [
       "<div>\n",
       "<style>\n",
       "    .dataframe thead tr:only-child th {\n",
       "        text-align: right;\n",
       "    }\n",
       "\n",
       "    .dataframe thead th {\n",
       "        text-align: left;\n",
       "    }\n",
       "\n",
       "    .dataframe tbody tr th {\n",
       "        vertical-align: top;\n",
       "    }\n",
       "</style>\n",
       "<table border=\"1\" class=\"dataframe\">\n",
       "  <thead>\n",
       "    <tr style=\"text-align: right;\">\n",
       "      <th></th>\n",
       "      <th>job_description</th>\n",
       "      <th>job_title</th>\n",
       "      <th>location</th>\n",
       "      <th>organization</th>\n",
       "    </tr>\n",
       "  </thead>\n",
       "  <tbody>\n",
       "    <tr>\n",
       "      <th>0</th>\n",
       "      <td>TeamSoft is seeing an IT Support Specialist to...</td>\n",
       "      <td>IT Support Technician Job in Madison</td>\n",
       "      <td>Madison, WI 53702</td>\n",
       "      <td>NaN</td>\n",
       "    </tr>\n",
       "    <tr>\n",
       "      <th>1</th>\n",
       "      <td>The Wisconsin State Journal is seeking a flexi...</td>\n",
       "      <td>Business Reporter/Editor Job in Madison</td>\n",
       "      <td>Madison, WI 53708</td>\n",
       "      <td>Printing and Publishing</td>\n",
       "    </tr>\n",
       "    <tr>\n",
       "      <th>2</th>\n",
       "      <td>Report this job About the Job DePuy Synthes Co...</td>\n",
       "      <td>Johnson &amp; Johnson Family of Companies Job Appl...</td>\n",
       "      <td>DePuy Synthes Companies is a member of Johnson...</td>\n",
       "      <td>Personal and Household Services</td>\n",
       "    </tr>\n",
       "    <tr>\n",
       "      <th>3</th>\n",
       "      <td>Why Join Altec? If you’re considering a career...</td>\n",
       "      <td>Engineer - Quality Job in Dixon</td>\n",
       "      <td>Dixon, CA</td>\n",
       "      <td>Altec Industries</td>\n",
       "    </tr>\n",
       "    <tr>\n",
       "      <th>4</th>\n",
       "      <td>Position ID#  76162 # Positions  1 State  CT C...</td>\n",
       "      <td>Shift Supervisor - Part-Time Job in Camphill</td>\n",
       "      <td>Camphill, PA</td>\n",
       "      <td>Retail</td>\n",
       "    </tr>\n",
       "  </tbody>\n",
       "</table>\n",
       "</div>"
      ],
      "text/plain": [
       "                                     job_description  \\\n",
       "0  TeamSoft is seeing an IT Support Specialist to...   \n",
       "1  The Wisconsin State Journal is seeking a flexi...   \n",
       "2  Report this job About the Job DePuy Synthes Co...   \n",
       "3  Why Join Altec? If you’re considering a career...   \n",
       "4  Position ID#  76162 # Positions  1 State  CT C...   \n",
       "\n",
       "                                           job_title  \\\n",
       "0               IT Support Technician Job in Madison   \n",
       "1            Business Reporter/Editor Job in Madison   \n",
       "2  Johnson & Johnson Family of Companies Job Appl...   \n",
       "3                    Engineer - Quality Job in Dixon   \n",
       "4       Shift Supervisor - Part-Time Job in Camphill   \n",
       "\n",
       "                                            location  \\\n",
       "0                                  Madison, WI 53702   \n",
       "1                                  Madison, WI 53708   \n",
       "2  DePuy Synthes Companies is a member of Johnson...   \n",
       "3                                          Dixon, CA   \n",
       "4                                       Camphill, PA   \n",
       "\n",
       "                      organization  \n",
       "0                              NaN  \n",
       "1          Printing and Publishing  \n",
       "2  Personal and Household Services  \n",
       "3                 Altec Industries  \n",
       "4                           Retail  "
      ]
     },
     "execution_count": 13,
     "metadata": {},
     "output_type": "execute_result"
    }
   ],
   "source": [
    "# drop columns that are not helpful for the following analysis\n",
    "df = df.drop(df.columns[[0,1,2,3,4,7,10,11,12,13]],axis=1)\n",
    "df.head()"
   ]
  },
  {
   "cell_type": "markdown",
   "metadata": {},
   "source": [
    "In this dataset, we kept those columns which would be useful in the following sections. \n",
    " - The **job_description** and **job_title** will be used to match industry. \n",
    " - **organization** will be used for finding the name of that company and the culture of it. \n",
    " - **location**, will be used to calculate distance, as well as finding out if the job located at big or small city, with increasing or declining population and so on."
   ]
  },
  {
   "cell_type": "markdown",
   "metadata": {},
   "source": [
    "# Section 2: Location \n",
    "\n",
    "### Extract the location information: zip code, state, city\n",
    "Notice that this dataset is not cleaned. The locations have different format so that we need to extract that information use some technology such as regular expression.\n"
   ]
  },
  {
   "cell_type": "code",
   "execution_count": 14,
   "metadata": {},
   "outputs": [
    {
     "data": {
      "text/html": [
       "<div>\n",
       "<style>\n",
       "    .dataframe thead tr:only-child th {\n",
       "        text-align: right;\n",
       "    }\n",
       "\n",
       "    .dataframe thead th {\n",
       "        text-align: left;\n",
       "    }\n",
       "\n",
       "    .dataframe tbody tr th {\n",
       "        vertical-align: top;\n",
       "    }\n",
       "</style>\n",
       "<table border=\"1\" class=\"dataframe\">\n",
       "  <thead>\n",
       "    <tr style=\"text-align: right;\">\n",
       "      <th></th>\n",
       "      <th>job_description</th>\n",
       "      <th>job_title</th>\n",
       "      <th>location</th>\n",
       "      <th>organization</th>\n",
       "      <th>zip_code</th>\n",
       "      <th>state</th>\n",
       "      <th>city</th>\n",
       "    </tr>\n",
       "  </thead>\n",
       "  <tbody>\n",
       "    <tr>\n",
       "      <th>0</th>\n",
       "      <td>TeamSoft is seeing an IT Support Specialist to...</td>\n",
       "      <td>IT Support Technician Job in Madison</td>\n",
       "      <td>Madison, WI 53702</td>\n",
       "      <td>NaN</td>\n",
       "      <td>53702</td>\n",
       "      <td>WI</td>\n",
       "      <td>Madison</td>\n",
       "    </tr>\n",
       "    <tr>\n",
       "      <th>1</th>\n",
       "      <td>The Wisconsin State Journal is seeking a flexi...</td>\n",
       "      <td>Business Reporter/Editor Job in Madison</td>\n",
       "      <td>Madison, WI 53708</td>\n",
       "      <td>Printing and Publishing</td>\n",
       "      <td>53708</td>\n",
       "      <td>WI</td>\n",
       "      <td>Madison</td>\n",
       "    </tr>\n",
       "    <tr>\n",
       "      <th>2</th>\n",
       "      <td>Report this job About the Job DePuy Synthes Co...</td>\n",
       "      <td>Johnson &amp; Johnson Family of Companies Job Appl...</td>\n",
       "      <td>DePuy Synthes Companies is a member of Johnson...</td>\n",
       "      <td>Personal and Household Services</td>\n",
       "      <td>NaN</td>\n",
       "      <td>NaN</td>\n",
       "      <td>NaN</td>\n",
       "    </tr>\n",
       "    <tr>\n",
       "      <th>3</th>\n",
       "      <td>Why Join Altec? If you’re considering a career...</td>\n",
       "      <td>Engineer - Quality Job in Dixon</td>\n",
       "      <td>Dixon, CA</td>\n",
       "      <td>Altec Industries</td>\n",
       "      <td>NaN</td>\n",
       "      <td>CA</td>\n",
       "      <td>Dixon</td>\n",
       "    </tr>\n",
       "    <tr>\n",
       "      <th>4</th>\n",
       "      <td>Position ID#  76162 # Positions  1 State  CT C...</td>\n",
       "      <td>Shift Supervisor - Part-Time Job in Camphill</td>\n",
       "      <td>Camphill, PA</td>\n",
       "      <td>Retail</td>\n",
       "      <td>NaN</td>\n",
       "      <td>PA</td>\n",
       "      <td>Camphill</td>\n",
       "    </tr>\n",
       "  </tbody>\n",
       "</table>\n",
       "</div>"
      ],
      "text/plain": [
       "                                     job_description  \\\n",
       "0  TeamSoft is seeing an IT Support Specialist to...   \n",
       "1  The Wisconsin State Journal is seeking a flexi...   \n",
       "2  Report this job About the Job DePuy Synthes Co...   \n",
       "3  Why Join Altec? If you’re considering a career...   \n",
       "4  Position ID#  76162 # Positions  1 State  CT C...   \n",
       "\n",
       "                                           job_title  \\\n",
       "0               IT Support Technician Job in Madison   \n",
       "1            Business Reporter/Editor Job in Madison   \n",
       "2  Johnson & Johnson Family of Companies Job Appl...   \n",
       "3                    Engineer - Quality Job in Dixon   \n",
       "4       Shift Supervisor - Part-Time Job in Camphill   \n",
       "\n",
       "                                            location  \\\n",
       "0                                  Madison, WI 53702   \n",
       "1                                  Madison, WI 53708   \n",
       "2  DePuy Synthes Companies is a member of Johnson...   \n",
       "3                                          Dixon, CA   \n",
       "4                                       Camphill, PA   \n",
       "\n",
       "                      organization zip_code state      city  \n",
       "0                              NaN    53702    WI   Madison  \n",
       "1          Printing and Publishing    53708    WI   Madison  \n",
       "2  Personal and Household Services      NaN   NaN       NaN  \n",
       "3                 Altec Industries      NaN    CA     Dixon  \n",
       "4                           Retail      NaN    PA  Camphill  "
      ]
     },
     "execution_count": 14,
     "metadata": {},
     "output_type": "execute_result"
    }
   ],
   "source": [
    "# extract zip code information from the location column\n",
    "# extract state information from the location column\n",
    "p = re.compile(r'(?<![A-Z])[A-Z]{2}(?![A-Z])')\n",
    "for i, row in df.iterrows():\n",
    "    # add the column zip code\n",
    "    ls = []\n",
    "    for char in row.location:\n",
    "        if char.isdigit():\n",
    "            ls.append(char)\n",
    "    if len(ls) == 5:\n",
    "        df.set_value(i,'zip_code', ''.join(ls))\n",
    "    \n",
    "    # add the column state\n",
    "    str_location = row.location\n",
    "   \n",
    "    if len(str_location) < 100 and len(str_location) > 1:\n",
    "        state = p.search(str_location)\n",
    "        if state is not None:\n",
    "            df.set_value(i, 'state', state.group())\n",
    "            ls = str_location.split(',')\n",
    "            df.set_value(i, 'city', ls[0])\n",
    "df.head()"
   ]
  },
  {
   "cell_type": "markdown",
   "metadata": {},
   "source": [
    "### Dataset exploration 1: look at locations that have the biggest number of jobs"
   ]
  },
  {
   "cell_type": "code",
   "execution_count": 15,
   "metadata": {},
   "outputs": [
    {
     "name": "stdout",
     "output_type": "stream",
     "text": [
      "There are 19194 jobs that shows which City they located at.\n"
     ]
    },
    {
     "data": {
      "image/png": "[encoded data removed]",
      "text/plain": [
       "<Figure size 432x288 with 1 Axes>"
      ]
     },
     "metadata": {},
     "output_type": "display_data"
    }
   ],
   "source": [
    "df_dropna = df[~df.state.isnull()]\n",
    "print('There are %d jobs that shows which City they located at.' % len(df_dropna))\n",
    "\n",
    "data = df_dropna.groupby('city').count().job_description.sort_values(ascending = False)[:15]\n",
    "df_data = data.to_frame()\n",
    "df_data['city'] = df_data.index\n",
    "df_data.columns = ['Jobs Available', 'City']\n",
    "\n",
    "g = sns.barplot(x='City', y='Jobs Available', data=df_data)\n",
    "g.set_xticklabels(g.get_xticklabels(), rotation=90);"
   ]
  },
  {
   "cell_type": "code",
   "execution_count": 16,
   "metadata": {},
   "outputs": [
    {
     "name": "stdout",
     "output_type": "stream",
     "text": [
      "There are 19194 jobs that shows which State they located at.\n"
     ]
    },
    {
     "data": {
      "image/png": "[encoded data removed]",
      "text/plain": [
       "<Figure size 432x288 with 1 Axes>"
      ]
     },
     "metadata": {},
     "output_type": "display_data"
    }
   ],
   "source": [
    "data = df_dropna.groupby('state').count().job_description.sort_values(ascending = False)[:10]\n",
    "print('There are %d jobs that shows which State they located at.' % len(df_dropna))\n",
    "df_data = data.to_frame()\n",
    "df_data['State'] = df_data.index\n",
    "df_data.columns = ['Jobs Available', 'State']\n",
    "\n",
    "g = sns.barplot(x='State', y='Jobs Available', data=df_data)\n",
    "g.set_xticklabels(g.get_xticklabels(), rotation=90);"
   ]
  },
  {
   "cell_type": "markdown",
   "metadata": {},
   "source": [
    "### Dataset exploration 2: save the DataFrame as excel and mapping the data in the USA map."
   ]
  },
  {
   "cell_type": "raw",
   "metadata": {
    "collapsed": true
   },
   "source": [
    "# Create a Pandas Excel writer using XlsxWriter as the engine.\n",
    "writer = pd.ExcelWriter('monster_zipcode.xlsx', engine='xlsxwriter')\n",
    "\n",
    "# Convert the dataframe to an XlsxWriter Excel object.\n",
    "df.to_excel(writer, sheet_name='Sheet1')\n",
    "\n",
    "# Close the Pandas Excel writer and output the Excel file.\n",
    "writer.save()"
   ]
  },
  {
   "cell_type": "code",
   "execution_count": 17,
   "metadata": {},
   "outputs": [
    {
     "name": "stdout",
     "output_type": "stream",
     "text": [
      "There are 12059 jobs that shows which zip_code they located at.\n"
     ]
    }
   ],
   "source": [
    "df_dropna_zip = df[~df.zip_code.isnull()]\n",
    "print('There are %d jobs that shows which zip_code they located at.' % len(df_dropna_zip))"
   ]
  },
  {
   "cell_type": "markdown",
   "metadata": {},
   "source": [
    "![map](map.png)\n",
    "\n",
    "https://plot.ly/python/bubble-maps/"
   ]
  },
  {
   "cell_type": "code",
   "execution_count": 18,
   "metadata": {},
   "outputs": [
    {
     "data": {
      "text/html": [
       "<div>\n",
       "<style>\n",
       "    .dataframe thead tr:only-child th {\n",
       "        text-align: right;\n",
       "    }\n",
       "\n",
       "    .dataframe thead th {\n",
       "        text-align: left;\n",
       "    }\n",
       "\n",
       "    .dataframe tbody tr th {\n",
       "        vertical-align: top;\n",
       "    }\n",
       "</style>\n",
       "<table border=\"1\" class=\"dataframe\">\n",
       "  <thead>\n",
       "    <tr style=\"text-align: right;\">\n",
       "      <th></th>\n",
       "      <th>job_description</th>\n",
       "      <th>job_title</th>\n",
       "      <th>location</th>\n",
       "      <th>organization</th>\n",
       "      <th>zip_code</th>\n",
       "      <th>state</th>\n",
       "      <th>city</th>\n",
       "    </tr>\n",
       "  </thead>\n",
       "  <tbody>\n",
       "    <tr>\n",
       "      <th>0</th>\n",
       "      <td>TeamSoft is seeing an IT Support Specialist to...</td>\n",
       "      <td>IT Support Technician Job in Madison</td>\n",
       "      <td>Madison, WI 53702</td>\n",
       "      <td>NaN</td>\n",
       "      <td>53702</td>\n",
       "      <td>WI</td>\n",
       "      <td>Madison</td>\n",
       "    </tr>\n",
       "    <tr>\n",
       "      <th>1</th>\n",
       "      <td>The Wisconsin State Journal is seeking a flexi...</td>\n",
       "      <td>Business Reporter/Editor Job in Madison</td>\n",
       "      <td>Madison, WI 53708</td>\n",
       "      <td>Printing and Publishing</td>\n",
       "      <td>53708</td>\n",
       "      <td>WI</td>\n",
       "      <td>Madison</td>\n",
       "    </tr>\n",
       "    <tr>\n",
       "      <th>7</th>\n",
       "      <td>RESPONSIBILITIES:Kforce has a client seeking a...</td>\n",
       "      <td>Mailroom Clerk Job in Austin</td>\n",
       "      <td>Austin, TX 73301</td>\n",
       "      <td>NaN</td>\n",
       "      <td>73301</td>\n",
       "      <td>TX</td>\n",
       "      <td>Austin</td>\n",
       "    </tr>\n",
       "    <tr>\n",
       "      <th>8</th>\n",
       "      <td>Part-Time, 4:30 pm - 9:30 pm, Mon - Fri Brookd...</td>\n",
       "      <td>Housekeeper Job in Austin</td>\n",
       "      <td>Austin, TX 78746</td>\n",
       "      <td>Hotels and Lodging Personal and Household Serv...</td>\n",
       "      <td>78746</td>\n",
       "      <td>TX</td>\n",
       "      <td>Austin</td>\n",
       "    </tr>\n",
       "    <tr>\n",
       "      <th>10</th>\n",
       "      <td>Aflac Insurance Sales Agent While a career in ...</td>\n",
       "      <td>Aflac Insurance Sales Agent Job in Berryville</td>\n",
       "      <td>Berryville, VA 22611</td>\n",
       "      <td>Insurance</td>\n",
       "      <td>22611</td>\n",
       "      <td>VA</td>\n",
       "      <td>Berryville</td>\n",
       "    </tr>\n",
       "  </tbody>\n",
       "</table>\n",
       "</div>"
      ],
      "text/plain": [
       "                                      job_description  \\\n",
       "0   TeamSoft is seeing an IT Support Specialist to...   \n",
       "1   The Wisconsin State Journal is seeking a flexi...   \n",
       "7   RESPONSIBILITIES:Kforce has a client seeking a...   \n",
       "8   Part-Time, 4:30 pm - 9:30 pm, Mon - Fri Brookd...   \n",
       "10  Aflac Insurance Sales Agent While a career in ...   \n",
       "\n",
       "                                        job_title              location  \\\n",
       "0            IT Support Technician Job in Madison     Madison, WI 53702   \n",
       "1         Business Reporter/Editor Job in Madison     Madison, WI 53708   \n",
       "7                    Mailroom Clerk Job in Austin      Austin, TX 73301   \n",
       "8                       Housekeeper Job in Austin      Austin, TX 78746   \n",
       "10  Aflac Insurance Sales Agent Job in Berryville  Berryville, VA 22611   \n",
       "\n",
       "                                         organization zip_code state  \\\n",
       "0                                                 NaN    53702    WI   \n",
       "1                             Printing and Publishing    53708    WI   \n",
       "7                                                 NaN    73301    TX   \n",
       "8   Hotels and Lodging Personal and Household Serv...    78746    TX   \n",
       "10                                          Insurance    22611    VA   \n",
       "\n",
       "          city  \n",
       "0      Madison  \n",
       "1      Madison  \n",
       "7       Austin  \n",
       "8       Austin  \n",
       "10  Berryville  "
      ]
     },
     "execution_count": 18,
     "metadata": {},
     "output_type": "execute_result"
    }
   ],
   "source": [
    "df_dropna_zip.head()"
   ]
  },
  {
   "cell_type": "code",
   "execution_count": 19,
   "metadata": {
    "collapsed": true
   },
   "outputs": [],
   "source": [
    "# this panda series contains the number of jobs in each zip code\n",
    "data = df_dropna_zip.groupby('zip_code').count().job_description.sort_values(ascending = False)"
   ]
  },
  {
   "cell_type": "code",
   "execution_count": 20,
   "metadata": {},
   "outputs": [
    {
     "ename": "NameError",
     "evalue": "name 'plotly' is not defined",
     "output_type": "error",
     "traceback": [
      "\u001b[0;31m---------------------------------------------------------------------------\u001b[0m",
      "\u001b[0;31mNameError\u001b[0m                                 Traceback (most recent call last)",
      "\u001b[0;32m<ipython-input-20-5bb1c81d815d>\u001b[0m in \u001b[0;36m<module>\u001b[0;34m()\u001b[0m\n\u001b[1;32m      1\u001b[0m \u001b[0;32mimport\u001b[0m \u001b[0mplotly\u001b[0m \u001b[0;32mas\u001b[0m \u001b[0mpy\u001b[0m\u001b[0;34m\u001b[0m\u001b[0m\n\u001b[1;32m      2\u001b[0m \u001b[0;32mimport\u001b[0m \u001b[0mplotly\u001b[0m\u001b[0;34m.\u001b[0m\u001b[0mfigure_factory\u001b[0m \u001b[0;32mas\u001b[0m \u001b[0mff\u001b[0m\u001b[0;34m\u001b[0m\u001b[0m\n\u001b[0;32m----> 3\u001b[0;31m \u001b[0mplotly\u001b[0m\u001b[0;34m.\u001b[0m\u001b[0moffline\u001b[0m\u001b[0;34m.\u001b[0m\u001b[0minit_notebook_mode\u001b[0m\u001b[0;34m(\u001b[0m\u001b[0mconnected\u001b[0m\u001b[0;34m=\u001b[0m\u001b[0;32mTrue\u001b[0m\u001b[0;34m)\u001b[0m\u001b[0;34m\u001b[0m\u001b[0m\n\u001b[0m\u001b[1;32m      4\u001b[0m \u001b[0;34m\u001b[0m\u001b[0m\n\u001b[1;32m      5\u001b[0m fips = ['06021', '06023', '06027',\n",
      "\u001b[0;31mNameError\u001b[0m: name 'plotly' is not defined"
     ]
    }
   ],
   "source": [
    "import plotly as py\n",
    "import plotly.figure_factory as ff\n",
    "plotly.offline.init_notebook_mode(connected=True)\n",
    "\n",
    "fips = ['06021', '06023', '06027',\n",
    "        '06029', '06033', '06059',\n",
    "        '06047', '06049', '06051',\n",
    "        '06055', '06061']\n",
    "values = range(len(fips))\n",
    "\n",
    "fig = ff.create_choropleth(fips=fips, values=values)\n",
    "py.offline.iplot(fig, filename='choropleth of some cali counties - full usa scope')"
   ]
  },
  {
   "cell_type": "code",
   "execution_count": 21,
   "metadata": {},
   "outputs": [
    {
     "ename": "NameError",
     "evalue": "name 'plotly' is not defined",
     "output_type": "error",
     "traceback": [
      "\u001b[0;31m---------------------------------------------------------------------------\u001b[0m",
      "\u001b[0;31mNameError\u001b[0m                                 Traceback (most recent call last)",
      "\u001b[0;32m<ipython-input-21-56795bc118ce>\u001b[0m in \u001b[0;36m<module>\u001b[0;34m()\u001b[0m\n\u001b[1;32m      1\u001b[0m \u001b[0;32mimport\u001b[0m \u001b[0mplotly\u001b[0m \u001b[0;32mas\u001b[0m \u001b[0mpy\u001b[0m\u001b[0;34m\u001b[0m\u001b[0m\n\u001b[1;32m      2\u001b[0m \u001b[0;32mimport\u001b[0m \u001b[0mplotly\u001b[0m\u001b[0;34m.\u001b[0m\u001b[0mfigure_factory\u001b[0m \u001b[0;32mas\u001b[0m \u001b[0mff\u001b[0m\u001b[0;34m\u001b[0m\u001b[0m\n\u001b[0;32m----> 3\u001b[0;31m \u001b[0mplotly\u001b[0m\u001b[0;34m.\u001b[0m\u001b[0moffline\u001b[0m\u001b[0;34m.\u001b[0m\u001b[0minit_notebook_mode\u001b[0m\u001b[0;34m(\u001b[0m\u001b[0mconnected\u001b[0m\u001b[0;34m=\u001b[0m\u001b[0;32mTrue\u001b[0m\u001b[0;34m)\u001b[0m\u001b[0;34m\u001b[0m\u001b[0m\n\u001b[0m\u001b[1;32m      4\u001b[0m \u001b[0;34m\u001b[0m\u001b[0m\n\u001b[1;32m      5\u001b[0m \u001b[0;34m\u001b[0m\u001b[0m\n",
      "\u001b[0;31mNameError\u001b[0m: name 'plotly' is not defined"
     ]
    }
   ],
   "source": [
    "import plotly as py\n",
    "import plotly.figure_factory as ff\n",
    "plotly.offline.init_notebook_mode(connected=True)\n",
    "\n",
    "\n",
    "fips = ['53702']\n",
    "values = range(len(fips))\n",
    "\n",
    "fig = ff.create_choropleth(fips=fips, values=values)\n",
    "py.offline.iplot(fig, filename='choropleth of some cali counties - full usa scope')"
   ]
  },
  {
   "cell_type": "markdown",
   "metadata": {},
   "source": [
    "### Determine the location index.\n",
    "Location index is determined by the distance from where the job is and where the job seeker currently located. The index is also determined by the quality of the location. People may care different things about the location, such as the population, safety, near big city, near national park, city or country, art, education and so on. We can put all those factors in the questionnaire. This location index can be very complex and it would be impossible to complete in a short time. We'll simplify the calculation by picking 1 or 2 factors, like distance from home and population.\n",
    "\n",
    "\n",
    "————note:\n",
    "give a new map that shows the index of the locations. "
   ]
  },
  {
   "cell_type": "code",
   "execution_count": 22,
   "metadata": {},
   "outputs": [],
   "source": [
    "# calculate distance based on zip code\n",
    "from pyzipcode import ZipCodeDatabase\n",
    "\n",
    "zcdb = ZipCodeDatabase()\n",
    "zipcode = zcdb[84112]\n",
    "lan_home = zipcode.latitude\n",
    "lon_home = zipcode.longitude\n",
    "\n",
    "df_zip = df[df['zip_code'].notnull()]\n",
    "df_zip = df_zip[~(df_zip['zip_code']=='00000')]\n",
    "\n",
    "for i, row in df_zip.iterrows():\n",
    "    #calculate distance\n",
    "    try:\n",
    "        zipcode = zcdb[row.zip_code]\n",
    "        lan = zipcode.latitude\n",
    "        lon = zipcode.longitude\n",
    "        distance = math.sqrt((lan-lan_home)**2+(lon-lon_home)**2)\n",
    "        df.set_value(i, 'distance_home', distance)\n",
    "    except:\n",
    "        pass"
   ]
  },
  {
   "cell_type": "code",
   "execution_count": 23,
   "metadata": {},
   "outputs": [
    {
     "data": {
      "text/plain": [
       "(12054, 7)"
      ]
     },
     "execution_count": 23,
     "metadata": {},
     "output_type": "execute_result"
    }
   ],
   "source": [
    "df_zip.shape"
   ]
  },
  {
   "cell_type": "code",
   "execution_count": 24,
   "metadata": {},
   "outputs": [
    {
     "data": {
      "text/html": [
       "<div>\n",
       "<style>\n",
       "    .dataframe thead tr:only-child th {\n",
       "        text-align: right;\n",
       "    }\n",
       "\n",
       "    .dataframe thead th {\n",
       "        text-align: left;\n",
       "    }\n",
       "\n",
       "    .dataframe tbody tr th {\n",
       "        vertical-align: top;\n",
       "    }\n",
       "</style>\n",
       "<table border=\"1\" class=\"dataframe\">\n",
       "  <thead>\n",
       "    <tr style=\"text-align: right;\">\n",
       "      <th></th>\n",
       "      <th>job_description</th>\n",
       "      <th>job_title</th>\n",
       "      <th>location</th>\n",
       "      <th>organization</th>\n",
       "      <th>zip_code</th>\n",
       "      <th>state</th>\n",
       "      <th>city</th>\n",
       "    </tr>\n",
       "  </thead>\n",
       "  <tbody>\n",
       "    <tr>\n",
       "      <th>0</th>\n",
       "      <td>TeamSoft is seeing an IT Support Specialist to...</td>\n",
       "      <td>IT Support Technician Job in Madison</td>\n",
       "      <td>Madison, WI 53702</td>\n",
       "      <td>NaN</td>\n",
       "      <td>53702</td>\n",
       "      <td>WI</td>\n",
       "      <td>Madison</td>\n",
       "    </tr>\n",
       "    <tr>\n",
       "      <th>1</th>\n",
       "      <td>The Wisconsin State Journal is seeking a flexi...</td>\n",
       "      <td>Business Reporter/Editor Job in Madison</td>\n",
       "      <td>Madison, WI 53708</td>\n",
       "      <td>Printing and Publishing</td>\n",
       "      <td>53708</td>\n",
       "      <td>WI</td>\n",
       "      <td>Madison</td>\n",
       "    </tr>\n",
       "    <tr>\n",
       "      <th>7</th>\n",
       "      <td>RESPONSIBILITIES:Kforce has a client seeking a...</td>\n",
       "      <td>Mailroom Clerk Job in Austin</td>\n",
       "      <td>Austin, TX 73301</td>\n",
       "      <td>NaN</td>\n",
       "      <td>73301</td>\n",
       "      <td>TX</td>\n",
       "      <td>Austin</td>\n",
       "    </tr>\n",
       "    <tr>\n",
       "      <th>8</th>\n",
       "      <td>Part-Time, 4:30 pm - 9:30 pm, Mon - Fri Brookd...</td>\n",
       "      <td>Housekeeper Job in Austin</td>\n",
       "      <td>Austin, TX 78746</td>\n",
       "      <td>Hotels and Lodging Personal and Household Serv...</td>\n",
       "      <td>78746</td>\n",
       "      <td>TX</td>\n",
       "      <td>Austin</td>\n",
       "    </tr>\n",
       "    <tr>\n",
       "      <th>10</th>\n",
       "      <td>Aflac Insurance Sales Agent While a career in ...</td>\n",
       "      <td>Aflac Insurance Sales Agent Job in Berryville</td>\n",
       "      <td>Berryville, VA 22611</td>\n",
       "      <td>Insurance</td>\n",
       "      <td>22611</td>\n",
       "      <td>VA</td>\n",
       "      <td>Berryville</td>\n",
       "    </tr>\n",
       "  </tbody>\n",
       "</table>\n",
       "</div>"
      ],
      "text/plain": [
       "                                      job_description  \\\n",
       "0   TeamSoft is seeing an IT Support Specialist to...   \n",
       "1   The Wisconsin State Journal is seeking a flexi...   \n",
       "7   RESPONSIBILITIES:Kforce has a client seeking a...   \n",
       "8   Part-Time, 4:30 pm - 9:30 pm, Mon - Fri Brookd...   \n",
       "10  Aflac Insurance Sales Agent While a career in ...   \n",
       "\n",
       "                                        job_title              location  \\\n",
       "0            IT Support Technician Job in Madison     Madison, WI 53702   \n",
       "1         Business Reporter/Editor Job in Madison     Madison, WI 53708   \n",
       "7                    Mailroom Clerk Job in Austin      Austin, TX 73301   \n",
       "8                       Housekeeper Job in Austin      Austin, TX 78746   \n",
       "10  Aflac Insurance Sales Agent Job in Berryville  Berryville, VA 22611   \n",
       "\n",
       "                                         organization zip_code state  \\\n",
       "0                                                 NaN    53702    WI   \n",
       "1                             Printing and Publishing    53708    WI   \n",
       "7                                                 NaN    73301    TX   \n",
       "8   Hotels and Lodging Personal and Household Serv...    78746    TX   \n",
       "10                                          Insurance    22611    VA   \n",
       "\n",
       "          city  \n",
       "0      Madison  \n",
       "1      Madison  \n",
       "7       Austin  \n",
       "8       Austin  \n",
       "10  Berryville  "
      ]
     },
     "execution_count": 24,
     "metadata": {},
     "output_type": "execute_result"
    }
   ],
   "source": [
    "df_zip.head()"
   ]
  },
  {
   "cell_type": "markdown",
   "metadata": {},
   "source": [
    "There are 12054 jobs in the dataset that has the distance information calcuated from zip code."
   ]
  },
  {
   "cell_type": "markdown",
   "metadata": {},
   "source": [
    "Population is an important aspect when investigating a location. First, the larger the population in that area means that it's more like a city area instead of an rural area. Second, we can also monitor the change of the population. If there is an increase of population, it may indicate that that area have a good amount job opportunity and overall healthy economy. I use this data source: [US Population By Zip Code\n",
    "For both 2000 and 2010](https://www.kaggle.com/census/us-population-by-zip-code#population_by_zip_2000.csv)"
   ]
  },
  {
   "cell_type": "code",
   "execution_count": 25,
   "metadata": {},
   "outputs": [],
   "source": [
    "# load the dataset\n",
    "df_zip_2000 = pd.read_csv('us-population-by-zip-code/population_by_zip_2000.csv')\n",
    "df_zip_2010 = pd.read_csv('us-population-by-zip-code/population_by_zip_2010.csv')"
   ]
  },
  {
   "cell_type": "code",
   "execution_count": 26,
   "metadata": {},
   "outputs": [],
   "source": [
    "# sum up the population in a zipcode area\n",
    "df_2010 = df_zip_2010.groupby('zipcode').sum()['population'].to_frame()\n",
    "df_2000 = df_zip_2000.groupby('zipcode').sum()['population'].to_frame()\n",
    "df_2000['zip'] = df_2000.index\n",
    "df_2010['zip'] = df_2010.index"
   ]
  },
  {
   "cell_type": "markdown",
   "metadata": {},
   "source": [
    "# Section 3: Culture and Industry\n",
    "\n",
    "In this section, we're trying to judge the culture of a company by some key adjectives in the job descriptions, such as \"flexible\", \"motivated\", \"innovative\" and so on.\n",
    "\n",
    "Also, we're trying to get the industry information of the company. Industry such as sports, media, software, communication, devices, music, non-profit and so on. This information may found from those nouns of the job description. For example, from the following case study, we may find \"Journal\", \"reporter\", \"editor\", \"journalist\", \"trends\" and so on may be a good represent of the industry of the company.\n",
    "\n",
    "### Step 1: clean the text\n",
    "First of all, let's clean the text in the job_description\n",
    "1. Tokenize the sentence by separating them into words.\n",
    "2. remove stopwords, symbols and make all the alphabet in lower case.\n",
    "3. word stemming\n",
    "\n"
   ]
  },
  {
   "cell_type": "code",
   "execution_count": 27,
   "metadata": {},
   "outputs": [
    {
     "data": {
      "text/plain": [
       "'motiv'"
      ]
     },
     "execution_count": 27,
     "metadata": {},
     "output_type": "execute_result"
    }
   ],
   "source": [
    "# the clean method saved in this function\n",
    "def clean(tokens):\n",
    "    # remove stopword\n",
    "    fh = open('english.stop.txt','r')\n",
    "    ls_stopword = []\n",
    "    for item in fh:\n",
    "        ls_stopword.append(item.rstrip('\\n'))\n",
    "    sample_removed = [x for x in tokens if x not in ls_stopword]\n",
    "\n",
    "    # remove symbols\n",
    "    ls_symbols = [',','.','[',']','<','>','%',' ', '•', 'null', 'x', '$', '+','’']\n",
    "    sample_removed_s = [x for x in sample_removed if x not in ls_symbols]\n",
    "\n",
    "    # lowercase all the tokens\n",
    "    sample_removed_s = [x.lower() for x in sample_removed_s]\n",
    "\n",
    "    # word stemming\n",
    "#     stemmer = PorterStemmer()\n",
    "#     sample_stemmed = [stemmer.stem(x) for x in sample_removed_s]\n",
    "    \n",
    "    return sample_removed_s\n",
    "\n",
    "# Note: For example, 'motivated' after stemming is 'motiv'. \n",
    "# Seems PorterStemmer is a strong stemmer method. So, I decided not to use it.\n",
    "stemmer = PorterStemmer()\n",
    "stemmer.stem('motivated')"
   ]
  },
  {
   "cell_type": "markdown",
   "metadata": {},
   "source": [
    "### Step 2: extract useful information (adjectives, nones) from the job description.\n",
    "*A case study:*"
   ]
  },
  {
   "cell_type": "code",
   "execution_count": 28,
   "metadata": {},
   "outputs": [
    {
     "data": {
      "text/plain": [
       "'The Wisconsin State Journal is seeking a flexible and motivated reporter/editor to lead its three-person business desk. We’re looking for an experienced journalist able to spot trends, be a watchdog and reflect the Madison area’s vibrant entrepreneurial community. This is a hybrid reporting and editing position that calls for a fleet-footed, multimedia storyteller able to maximize the newspaper’s online presentation while also editing two sections a week. Candidates must have strong news judgment, be well versed in business news and trends and be able to quickly prioritize coverage.At least five years’ experience reporting or editing for digital and print platforms desired. To be considered for the position, applicants must apply online.\\xa0As part of your online application, please attach five samples of your work or links to five recent stories.Wisconsin State Journal, 1901 Fish Hatchery Road, Madison, WI 53713Affirmative Action/Equal Opportunity Employer/Pre-employment drug testing appliesPI94338362Apply Here'"
      ]
     },
     "execution_count": 28,
     "metadata": {},
     "output_type": "execute_result"
    }
   ],
   "source": [
    "# Let's look at an example: \n",
    "sample = df.job_description[1]\n",
    "sample"
   ]
  },
  {
   "cell_type": "code",
   "execution_count": 29,
   "metadata": {
    "collapsed": true
   },
   "outputs": [],
   "source": [
    "# tokenize sentense\n",
    "sentence = sample\n",
    "tokens = nltk.word_tokenize(sentence)"
   ]
  },
  {
   "cell_type": "code",
   "execution_count": 30,
   "metadata": {},
   "outputs": [],
   "source": [
    "# create tags for each word, this is done by using nltk \n",
    "tagged = nltk.pos_tag(tokens)"
   ]
  },
  {
   "cell_type": "code",
   "execution_count": 31,
   "metadata": {
    "collapsed": true
   },
   "outputs": [],
   "source": [
    "adj = [x[0] for x in tagged if x[1] == 'JJ']\n",
    "noun = [x[0] for x in tagged if x[1] == 'NN' or x[1]=='NNS']"
   ]
  },
  {
   "cell_type": "code",
   "execution_count": 32,
   "metadata": {},
   "outputs": [
    {
     "data": {
      "text/plain": [
       "['flexible',\n",
       " 'motivated',\n",
       " 'three-person',\n",
       " 're',\n",
       " 'experienced',\n",
       " 'able',\n",
       " 'vibrant',\n",
       " 'entrepreneurial',\n",
       " 'hybrid',\n",
       " 'fleet-footed',\n",
       " 'multimedia',\n",
       " 'able',\n",
       " 'online',\n",
       " 'strong',\n",
       " 'able',\n",
       " '’',\n",
       " 'digital',\n",
       " 'online',\n",
       " 'recent',\n",
       " 'Fish',\n",
       " 'Employer/Pre-employment']"
      ]
     },
     "execution_count": 32,
     "metadata": {},
     "output_type": "execute_result"
    }
   ],
   "source": [
    "# before cleaning process\n",
    "adj"
   ]
  },
  {
   "cell_type": "code",
   "execution_count": 33,
   "metadata": {},
   "outputs": [
    {
     "data": {
      "text/plain": [
       "['flexible',\n",
       " 'motivated',\n",
       " 'three-person',\n",
       " 'experienced',\n",
       " 'vibrant',\n",
       " 'entrepreneurial',\n",
       " 'hybrid',\n",
       " 'fleet-footed',\n",
       " 'multimedia',\n",
       " 'online',\n",
       " 'strong',\n",
       " 'digital',\n",
       " 'online',\n",
       " 'recent',\n",
       " 'fish',\n",
       " 'employer/pre-employment']"
      ]
     },
     "execution_count": 33,
     "metadata": {},
     "output_type": "execute_result"
    }
   ],
   "source": [
    "# after the cleaning process\n",
    "adj_c = clean(adj)\n",
    "clean(adj)"
   ]
  },
  {
   "cell_type": "markdown",
   "metadata": {},
   "source": [
    "**In the above list, I found the words: 'flexible', 'motivated', 'entrepreneurial', 'vibrant' are good indicator of the culture of the work. Other words: 'multimedia', 'online', 'digital', 'recent' are more indicating for the industry of the work.**"
   ]
  },
  {
   "cell_type": "code",
   "execution_count": 34,
   "metadata": {},
   "outputs": [
    {
     "data": {
      "text/plain": [
       "['reporter/editor',\n",
       " 'business',\n",
       " 'desk',\n",
       " 'journalist',\n",
       " 'trends',\n",
       " 'watchdog',\n",
       " 'area',\n",
       " 's',\n",
       " 'community',\n",
       " 'reporting',\n",
       " 'position',\n",
       " 'storyteller',\n",
       " 'newspaper',\n",
       " 'presentation',\n",
       " 'sections',\n",
       " 'week',\n",
       " 'Candidates',\n",
       " 'news',\n",
       " 'judgment',\n",
       " 'business',\n",
       " 'news',\n",
       " 'trends',\n",
       " 'coverage.At',\n",
       " 'years',\n",
       " 'experience',\n",
       " 'reporting',\n",
       " 'print',\n",
       " 'platforms',\n",
       " 'position',\n",
       " 'applicants',\n",
       " 'online',\n",
       " 'part',\n",
       " 'application',\n",
       " 'samples',\n",
       " 'work',\n",
       " 'links',\n",
       " 'stories.Wisconsin',\n",
       " 'drug',\n",
       " 'appliesPI94338362Apply']"
      ]
     },
     "execution_count": 34,
     "metadata": {},
     "output_type": "execute_result"
    }
   ],
   "source": [
    "# before cleaning process:\n",
    "noun"
   ]
  },
  {
   "cell_type": "code",
   "execution_count": 35,
   "metadata": {},
   "outputs": [
    {
     "data": {
      "text/plain": [
       "['reporter/editor',\n",
       " 'business',\n",
       " 'desk',\n",
       " 'journalist',\n",
       " 'trends',\n",
       " 'watchdog',\n",
       " 'area',\n",
       " 'community',\n",
       " 'reporting',\n",
       " 'position',\n",
       " 'storyteller',\n",
       " 'newspaper',\n",
       " 'presentation',\n",
       " 'sections',\n",
       " 'week',\n",
       " 'candidates',\n",
       " 'news',\n",
       " 'judgment',\n",
       " 'business',\n",
       " 'news',\n",
       " 'trends',\n",
       " 'coverage.at',\n",
       " 'years',\n",
       " 'experience',\n",
       " 'reporting',\n",
       " 'print',\n",
       " 'platforms',\n",
       " 'position',\n",
       " 'applicants',\n",
       " 'online',\n",
       " 'part',\n",
       " 'application',\n",
       " 'samples',\n",
       " 'work',\n",
       " 'links',\n",
       " 'stories.wisconsin',\n",
       " 'drug',\n",
       " 'appliespi94338362apply']"
      ]
     },
     "execution_count": 35,
     "metadata": {},
     "output_type": "execute_result"
    }
   ],
   "source": [
    "# after cleaning process\n",
    "noun_c = clean(noun)\n",
    "clean(noun)"
   ]
  },
  {
   "cell_type": "code",
   "execution_count": 36,
   "metadata": {
    "scrolled": false
   },
   "outputs": [
    {
     "data": {
      "text/plain": [
       "[('able', 3),\n",
       " ('online', 2),\n",
       " ('flexible', 1),\n",
       " ('motivated', 1),\n",
       " ('three-person', 1),\n",
       " ('re', 1),\n",
       " ('experienced', 1),\n",
       " ('vibrant', 1),\n",
       " ('entrepreneurial', 1),\n",
       " ('hybrid', 1)]"
      ]
     },
     "execution_count": 36,
     "metadata": {},
     "output_type": "execute_result"
    }
   ],
   "source": [
    "c_adj = Counter(adj)\n",
    "c_adj.most_common(10)"
   ]
  },
  {
   "cell_type": "code",
   "execution_count": 37,
   "metadata": {},
   "outputs": [
    {
     "data": {
      "text/plain": [
       "[('business', 2),\n",
       " ('trends', 2),\n",
       " ('reporting', 2),\n",
       " ('position', 2),\n",
       " ('news', 2),\n",
       " ('reporter/editor', 1),\n",
       " ('desk', 1),\n",
       " ('journalist', 1),\n",
       " ('watchdog', 1),\n",
       " ('area', 1)]"
      ]
     },
     "execution_count": 37,
     "metadata": {},
     "output_type": "execute_result"
    }
   ],
   "source": [
    "c_noun = Counter(noun)\n",
    "c_noun.most_common(10)"
   ]
  },
  {
   "cell_type": "markdown",
   "metadata": {},
   "source": [
    "**In the list of Noun, the following words: 'business', 'trends', 'reporting', 'news', 'reporter', 'journalist' are great indicator of the industry of this job**"
   ]
  },
  {
   "cell_type": "markdown",
   "metadata": {},
   "source": [
    "It would be great if we can select those words from the list using some NLP tools. Let's try TF-IDF (term frequency inverse document frequency) first.\n",
    "\n",
    "- https://planspace.org/20150524-tfidf_is_about_what_matters/\n",
    "- https://blog.insightdatascience.com/how-to-solve-90-of-nlp-problems-a-step-by-step-guide-fda605278e4e\n",
    "- https://www.youtube.com/watch?v=ZiKMIuYidY0&list=PL5-da3qGB5ICeMbQuqbbCOQWcS6OYBr5A&index=10\n",
    "\n",
    "First, we need to create a simplified representation of the words in the job descriptions, so we can build mathematically models on them. One commonly used method is called bag-of-word, which represent words in the vocabulary by 0s and 1s. In our unsupervised "
   ]
  },
  {
   "cell_type": "code",
   "execution_count": 38,
   "metadata": {
    "collapsed": true
   },
   "outputs": [],
   "source": [
    "def token(sentence):\n",
    "    tokens = nltk.word_tokenize(sentence)\n",
    "    \n",
    "    return tokens\n",
    "\n",
    "\n",
    "def adj(sentence):\n",
    "    tokens = nltk.word_tokenize(sentence)\n",
    "    tagged = nltk.pos_tag(tokens)\n",
    "    adj = [x[0] for x in tagged if x[1] == 'JJ']\n",
    "    \n",
    "    return adj\n",
    "\n",
    "def noun(sentence):\n",
    "    tokens = nltk.word_tokenize(sentence)\n",
    "    tagged = nltk.pos_tag(tokens)\n",
    "    noun = [x[0] for x in tagged if x[1] == 'NN' or x[1] == 'NNS']\n",
    "    \n",
    "    return adj"
   ]
  },
  {
   "cell_type": "code",
   "execution_count": null,
   "metadata": {},
   "outputs": [],
   "source": [
    "/stop here"
   ]
  },
  {
   "cell_type": "code",
   "execution_count": 39,
   "metadata": {},
   "outputs": [],
   "source": [
    "df['token']=df['job_description'].apply(token)"
   ]
  },
  {
   "cell_type": "code",
   "execution_count": 40,
   "metadata": {},
   "outputs": [],
   "source": [
    "df['adj']=df['job_description'].apply(adj)"
   ]
  },
  {
   "cell_type": "code",
   "execution_count": 41,
   "metadata": {
    "collapsed": true
   },
   "outputs": [],
   "source": [
    "df['noun']=df['job_description'].apply(noun)"
   ]
  },
  {
   "cell_type": "markdown",
   "metadata": {},
   "source": [
    "Maybe continuous learning:\n",
    "\n",
    "https://stackoverflow.com/questions/32759712/how-to-find-the-closest-word-to-a-vector-using-word2vec"
   ]
  },
  {
   "cell_type": "code",
   "execution_count": null,
   "metadata": {
    "scrolled": true
   },
   "outputs": [],
   "source": [
    "df.head()"
   ]
  },
  {
   "cell_type": "code",
   "execution_count": null,
   "metadata": {},
   "outputs": [],
   "source": [
    "df_adj_ls = df.adj.tolist()\n",
    "df_noun_ls = df.noun.tolist()\n",
    "df_token_ls = df.token.tolist()"
   ]
  },
  {
   "cell_type": "code",
   "execution_count": null,
   "metadata": {},
   "outputs": [],
   "source": [
    "df_adj_ls"
   ]
  },
  {
   "cell_type": "code",
   "execution_count": null,
   "metadata": {
    "collapsed": true
   },
   "outputs": [],
   "source": [
    "from gensim import corpora\n",
    "\n",
    "dictionary = corpora.Dictionary(df_adj_ls)\n"
   ]
  },
  {
   "cell_type": "code",
   "execution_count": null,
   "metadata": {
    "collapsed": true
   },
   "outputs": [],
   "source": []
  },
  {
   "cell_type": "code",
   "execution_count": 211,
   "metadata": {},
   "outputs": [
    {
     "ename": "NameError",
     "evalue": "name 'stop' is not defined",
     "output_type": "error",
     "traceback": [
      "\u001b[0;31m---------------------------------------------------------------------------\u001b[0m",
      "\u001b[0;31mNameError\u001b[0m                                 Traceback (most recent call last)",
      "\u001b[0;32m<ipython-input-211-247ec74fef25>\u001b[0m in \u001b[0;36m<module>\u001b[0;34m()\u001b[0m\n\u001b[0;32m----> 1\u001b[0;31m \u001b[0mstop\u001b[0m\u001b[0;34m(\u001b[0m\u001b[0mhere\u001b[0m\u001b[0;34m)\u001b[0m\u001b[0;34m\u001b[0m\u001b[0m\n\u001b[0m\u001b[1;32m      2\u001b[0m \u001b[0;31m# count the adj. and nouns in all of the jobs to figure out what't the most\u001b[0m\u001b[0;34m\u001b[0m\u001b[0;34m\u001b[0m\u001b[0m\n\u001b[1;32m      3\u001b[0m \u001b[0;31m# commonly used words.\u001b[0m\u001b[0;34m\u001b[0m\u001b[0;34m\u001b[0m\u001b[0m\n\u001b[1;32m      4\u001b[0m \u001b[0madj_all\u001b[0m \u001b[0;34m=\u001b[0m \u001b[0;34m[\u001b[0m\u001b[0;34m]\u001b[0m\u001b[0;34m\u001b[0m\u001b[0m\n\u001b[1;32m      5\u001b[0m \u001b[0mnoun_all\u001b[0m \u001b[0;34m=\u001b[0m \u001b[0;34m[\u001b[0m\u001b[0;34m]\u001b[0m\u001b[0;34m\u001b[0m\u001b[0m\n",
      "\u001b[0;31mNameError\u001b[0m: name 'stop' is not defined"
     ]
    }
   ],
   "source": [
    "/stop here\n",
    "# count the adj. and nouns in all of the jobs to figure out what't the most \n",
    "# commonly used words.\n",
    "adj_all = []\n",
    "noun_all = []\n",
    "\n",
    "for i in tqdm(range(len(df))):\n",
    "    sample = df.job_description[i]\n",
    "    \n",
    "    sentence = sample\n",
    "    tokens = nltk.word_tokenize(sentence)\n",
    "    tagged = nltk.pos_tag(tokens)\n",
    "    \n",
    "    adj = [x[0] for x in tagged if x[1] == 'JJ']\n",
    "    noun = [x[0] for x in tagged if x[1] == 'NN' or x[1]=='NNS']\n",
    "    \n",
    "    df.set_value(i, 'adj', adj)\n",
    "    df.set_value(i, 'noun', noun)\n",
    "    \n",
    "    adj_removed = clean(adj)\n",
    "    noun_removed = clean(noun)\n",
    "    \n",
    "    for item_adj in adj_removed:\n",
    "        adj_all.append(item_adj)\n",
    "    for item_noun in noun_removed:\n",
    "        noun_all.append(item_noun)\n",
    "    sleep(0.001)"
   ]
  },
  {
   "cell_type": "code",
   "execution_count": null,
   "metadata": {
    "collapsed": true
   },
   "outputs": [],
   "source": [
    "c_noun_all = Counter(noun_all)\n",
    "c_adj_all = Counter(adj_all)"
   ]
  },
  {
   "cell_type": "code",
   "execution_count": null,
   "metadata": {
    "scrolled": true
   },
   "outputs": [],
   "source": [
    "# a list of the top 100 commonly used nouns\n",
    "ls_top100_noun = [x[0] for x in c_noun_all.most_common(100)]\n",
    "\n",
    "# a list of the top 100 commonly used adjs\n",
    "ls_top100_adj = [x[0] for x in c_adj_all.most_common(100)]"
   ]
  },
  {
   "cell_type": "markdown",
   "metadata": {
    "collapsed": true
   },
   "source": [
    "## word2vec\n",
    "To measure the distance between the job description and the answer of our questionnair, we use pre-trained word and phrase vectors from [Google word2vec](https://code.google.com/archive/p/word2vec/). \n",
    "\n",
    "\"This pre-trained vectors trained on part of Google News dataset (about 100 billion words). The model contains 300-dimensional vectors for 3 million words and phrases. \""
   ]
  },
  {
   "cell_type": "code",
   "execution_count": 107,
   "metadata": {},
   "outputs": [],
   "source": [
    "df.to_pickle('df')"
   ]
  },
  {
   "cell_type": "code",
   "execution_count": 42,
   "metadata": {},
   "outputs": [],
   "source": [
    "import gensim\n",
    "\n",
    "# load the pre-trainned model\n",
    "word2vec_path = \"GoogleNews-vectors-negative300.bin\"\n",
    "word2vec = gensim.models.KeyedVectors.load_word2vec_format(word2vec_path, binary=True)"
   ]
  },
  {
   "cell_type": "code",
   "execution_count": 43,
   "metadata": {
    "collapsed": true
   },
   "outputs": [],
   "source": [
    "# for example\n",
    "dog = word2vec['dog']"
   ]
  },
  {
   "cell_type": "code",
   "execution_count": 44,
   "metadata": {
    "scrolled": true
   },
   "outputs": [
    {
     "name": "stdout",
     "output_type": "stream",
     "text": [
      "-3.68935e+19\n"
     ]
    }
   ],
   "source": [
    "# for example\n",
    "print(word2vec.similarity('flexible', 'wonderful'))"
   ]
  },
  {
   "cell_type": "code",
   "execution_count": 45,
   "metadata": {},
   "outputs": [],
   "source": [
    "# one simple way of using it is get the average vector\n",
    "def vec_avg(tokens):\n",
    "    vec_list = []\n",
    "    for word in tokens:\n",
    "        try:\n",
    "            vec_list.append(word2vec[word])\n",
    "        except:\n",
    "            pass\n",
    "    \n",
    "    return np.mean(vec_list, axis=0)"
   ]
  },
  {
   "cell_type": "code",
   "execution_count": 46,
   "metadata": {},
   "outputs": [
    {
     "name": "stderr",
     "output_type": "stream",
     "text": [
      "/Users/yaqiongzhang/anaconda/lib/python3.6/site-packages/numpy/core/fromnumeric.py:2909: RuntimeWarning:\n",
      "\n",
      "Mean of empty slice.\n",
      "\n"
     ]
    }
   ],
   "source": [
    "df['adj_word2vec_avg']=df['adj'].apply(vec_avg)"
   ]
  },
  {
   "cell_type": "markdown",
   "metadata": {},
   "source": [
    "from sklearn.manifold import TSNE\n",
    "X_embedded = TSNE(n_components=2).fit_transform(ls_X) \n",
    "X_embedded.shape"
   ]
  },
  {
   "cell_type": "code",
   "execution_count": 199,
   "metadata": {},
   "outputs": [],
   "source": [
    "ls = []\n",
    "for i, row in df.iterrows():\n",
    "    vec = row.adj_word2vec_avg.tolist()\n",
    "    if len(str(vec)) > 3: # get rid of nan\n",
    "        ls.append(vec)"
   ]
  },
  {
   "cell_type": "code",
   "execution_count": 282,
   "metadata": {},
   "outputs": [
    {
     "data": {
      "text/plain": [
       "PCA(copy=True, iterated_power='auto', n_components=2, random_state=None,\n",
       "  svd_solver='auto', tol=0.0, whiten=False)"
      ]
     },
     "execution_count": 282,
     "metadata": {},
     "output_type": "execute_result"
    }
   ],
   "source": [
    "# build visualization by fitting a PCA model\n",
    "from sklearn.decomposition import PCA\n",
    "pca = PCA(n_components=2)\n",
    "pca.fit(ls)"
   ]
  },
  {
   "cell_type": "code",
   "execution_count": 201,
   "metadata": {},
   "outputs": [],
   "source": [
    "X = pca.transform(ls)"
   ]
  },
  {
   "cell_type": "code",
   "execution_count": 281,
   "metadata": {
    "collapsed": true
   },
   "outputs": [],
   "source": [
    "# Let's look at the location of the job from the questionnaire.\n",
    "adj_q = ['innovative','open','art','ai']\n",
    "vec_q = vec_avg(adj_q).tolist()\n",
    "X_q = pca.transform([vec_q])"
   ]
  },
  {
   "cell_type": "code",
   "execution_count": 280,
   "metadata": {},
   "outputs": [
    {
     "data": {
      "image/png": "[encoded data removed]",
      "text/plain": [
       "<Figure size 1440x720 with 1 Axes>"
      ]
     },
     "metadata": {},
     "output_type": "display_data"
    }
   ],
   "source": [
    "fig, ax = plt.subplots(figsize=(20,10))\n",
    "ax.scatter(X[:,0], X[:,1],alpha=0.2, label = 'Jobs in the dataset')\n",
    "ax.scatter(X_q[:,0], X_q[:,1], c=\"r\", marker='x', label = 'Target job from questionnaire')\n",
    "ax.set(xlabel='PCA-1', ylabel='PCA-2', title='Visualization of jobs')\n",
    "legend = ax.legend(loc='upper right', fontsize='x-large')"
   ]
  },
  {
   "cell_type": "code",
   "execution_count": 292,
   "metadata": {},
   "outputs": [
    {
     "data": {
      "text/plain": [
       "[('innovative', 0.6434879302978516),\n",
       " ('art', 0.6263483762741089),\n",
       " ('ai', 0.5634794235229492),\n",
       " ('cutting_edge', 0.5576755404472351),\n",
       " ('Safiya_Godlas', 0.5304438471794128),\n",
       " ('sculpture_printmaking', 0.5296679139137268),\n",
       " ('drawing_printmaking', 0.5282857418060303),\n",
       " ('Mary_GrandPre_Scholastic_FP', 0.5247808694839478),\n",
       " ('LSA_CC', 0.5227562189102173),\n",
       " ('cuttingedge', 0.5176814794540405),\n",
       " ('discovery_concept_ShockHound', 0.5168626308441162),\n",
       " ('photography_printmaking', 0.5130655169487),\n",
       " ('tools_meganucleases', 0.506268322467804),\n",
       " ('painting_sculpture_printmaking', 0.503749668598175),\n",
       " ('printmaking_sculpture', 0.5036592483520508),\n",
       " ('paintings_sculptures_photography', 0.5031106472015381),\n",
       " ('Lanky_brooding_Superman', 0.502635657787323),\n",
       " ('pottery_woodworking', 0.5024662613868713),\n",
       " ('Monotype_Imaging_combines', 0.5011813044548035),\n",
       " ('etchings_engravings', 0.5007979869842529)]"
      ]
     },
     "execution_count": 292,
     "metadata": {},
     "output_type": "execute_result"
    }
   ],
   "source": [
    "# the top20 cloest words in pre-trainned word2vec with the list from the questionnaire.\n",
    "word2vec.most_similar(positive=[np.array(vec_q)], topn=20)"
   ]
  },
  {
   "cell_type": "code",
   "execution_count": 303,
   "metadata": {},
   "outputs": [],
   "source": [
    "# calculate the closest job description in the dataset\n",
    "# first create a list of tuples\n",
    "from scipy.spatial import distance\n",
    "\n",
    "ls_tuple = []\n",
    "for i, row in df.iterrows():\n",
    "    vec = row.adj_word2vec_avg.tolist()\n",
    "    if len(str(vec)) > 3: # get rid of nan\n",
    "        dis = distance.euclidean(vec, vec_q)\n",
    "        ls_tuple.append((i, dis))\n",
    "\n",
    "# find out the index of the minimun distance\n",
    "index_min = 0\n",
    "dis_min = 2\n",
    "for t in ls_tuple:\n",
    "    index, dis = t\n",
    "    if dis < dis_min:\n",
    "        dis_min = dis\n",
    "        index_min = index"
   ]
  },
  {
   "cell_type": "code",
   "execution_count": 302,
   "metadata": {},
   "outputs": [
    {
     "data": {
      "text/plain": [
       "\"In AT&T Labs we are always looking for new talent for Software Development in Overlay Networking and Cloud technologies. We envision and create cutting edge technologies that will revolutionize how networks and new services are architected, developed and managed. Our architects and engineers have a unique combination of access to real-world network, system and services, the ability to work with collaborators across the industry, opportunity to create the next generation network that will impact hundreds of millions of consumers and some of the largest corporations in the world. AT&T is currently embarking on a transformative initiative towards intelligent services by leveraging cloud technologies and Software Defined Networking (SDN). This modern architecture will simplify and scale AT&T’s network to help support the continued growth of Internet traffic, enable rapid deployment of an advanced cutting-edge features and services, provide industry leading security, performance and reliability. This transformation opens up exciting and challenging opportunities for young and dynamic individuals to work in a fast paced and rewarding environment to integrate AT&T’s next generation network and systems. We are looking for individuals with strong background in the following areas: Software development in an open source environment Leading software contributor to one or more open source software projects like ODL, Openstack, OpenContrail, Open vSwitch, vRouter, etc. Familiarity with API web service design Ability to learn and extend existing open source software Experience working in large scale systems Software development of network protocols like BGP, EVPN, QoS, etc. Experience developing controllers like Open Contrail or ODL or ONOS Good understanding of Openstack networking Experience integrating modules into Openstack Education and Experience: Candidate shall have a PhD in Computer Science from an accredited university and a minimum of 4 years of relevant experience, or a Master's degree in an Computer Science from an accredited university and a minimum of 6 years of relevant experience, or a Bachelor's degree in Computer Science from an accredited university and a minimum of 8 years of relevant experience. What Makes You Stand Out: Network development experience in Python, C/C++, Java Strong coding skills in Python, with emphasis on writing modular, scalable code Prototyping and developing solutions that involve Openstack, Open Contrail and ODL Experience with network virtualization using Open vSwitch, SR-IOV/DPDK, and Contrail vRouter in general server-based networking Knowledge of server-based networking, including hardware and software related to NICs and SmartNICs. Data center TOR switching experience is a plus. Knowledge in requirements for server virtualization, network virtualization, NFV and network orchestration Competent in TCP/IP networking development, performance optimization and efficient packet processing development Knowledge of networking datapath programming in software and hardware Speaking engagements at industry conferences or open source conferences Awesome Points: Strong verbal and written communication skills Desire to be a team player and work in a highly-collaborative environment\""
      ]
     },
     "execution_count": 302,
     "metadata": {},
     "output_type": "execute_result"
    }
   ],
   "source": [
    "# the top1 job in the dataset that matches the keywords in my questionnaire.\n",
    "df.job_description[index_min]"
   ]
  },
  {
   "cell_type": "code",
   "execution_count": null,
   "metadata": {
    "collapsed": true
   },
   "outputs": [],
   "source": []
  },
  {
   "cell_type": "code",
   "execution_count": null,
   "metadata": {
    "collapsed": true
   },
   "outputs": [],
   "source": []
  },
  {
   "cell_type": "code",
   "execution_count": null,
   "metadata": {
    "scrolled": true
   },
   "outputs": [],
   "source": [
    "# bag_of_word method\n",
    "# from gensim Quickstart\n",
    "\n",
    "bow_corpus = [dictionary.doc2bow(text) for text in df_adj_ls]\n",
    "bow_corpus"
   ]
  },
  {
   "cell_type": "code",
   "execution_count": null,
   "metadata": {},
   "outputs": [],
   "source": [
    "# tf-idf modle\n",
    "from gensim import models\n",
    "# train the model\n",
    "tfidf = models.TfidfModel(bow_corpus)\n",
    "# transform the \"system minors\" string\n",
    "xy = tfidf[dictionary.doc2bow(\"flexible art big local\".lower().split())]"
   ]
  },
  {
   "cell_type": "code",
   "execution_count": null,
   "metadata": {},
   "outputs": [],
   "source": [
    "x = [x[0] for x in xy]\n",
    "y = [x[1] for x in xy]"
   ]
  },
  {
   "cell_type": "code",
   "execution_count": null,
   "metadata": {},
   "outputs": [],
   "source": [
    "plt.scatter(x,y);"
   ]
  },
  {
   "cell_type": "code",
   "execution_count": null,
   "metadata": {
    "collapsed": true
   },
   "outputs": [],
   "source": []
  }
 ],
 "metadata": {
  "kernelspec": {
   "display_name": "Python 3",
   "language": "python",
   "name": "python3"
  },
  "language_info": {
   "codemirror_mode": {
    "name": "ipython",
    "version": 3
   },
   "file_extension": ".py",
   "mimetype": "text/x-python",
   "name": "python",
   "nbconvert_exporter": "python",
   "pygments_lexer": "ipython3",
   "version": "3.6.3"
  }
 },
 "nbformat": 4,
 "nbformat_minor": 2
}
