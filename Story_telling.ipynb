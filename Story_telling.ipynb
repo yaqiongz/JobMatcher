{
 "cells": [
  {
   "cell_type": "markdown",
   "metadata": {},
   "source": [
    "# Data story telling\n",
    "I found this dataset when I was working on my capstone project, in which I try to extract population information of a location. When working on the project, I found it's interesting because it contains the distribution of the population of different age in a zip code area. And we have two dataset, one for 2010 and one for 2000.\n",
    "\n",
    "- So between the year 2000 and 2010, how many locations in terms of zip code have increased overall population? (histogram) Which location have the highest amount of increasing of population? (barplot)\n",
    "- Where have the most youngest population? Where have the most senior population? (skewness, USA map)"
   ]
  },
  {
   "cell_type": "code",
   "execution_count": 79,
   "metadata": {
    "collapsed": true
   },
   "outputs": [],
   "source": [
    "import pandas as pd\n",
    "import matplotlib.pyplot as plt\n",
    "import seaborn as sns\n",
    "\n",
    "plt.style.use('fivethirtyeight')"
   ]
  },
  {
   "cell_type": "code",
   "execution_count": 45,
   "metadata": {},
   "outputs": [
    {
     "data": {
      "text/html": [
       "<div>\n",
       "<style>\n",
       "    .dataframe thead tr:only-child th {\n",
       "        text-align: right;\n",
       "    }\n",
       "\n",
       "    .dataframe thead th {\n",
       "        text-align: left;\n",
       "    }\n",
       "\n",
       "    .dataframe tbody tr th {\n",
       "        vertical-align: top;\n",
       "    }\n",
       "</style>\n",
       "<table border=\"1\" class=\"dataframe\">\n",
       "  <thead>\n",
       "    <tr style=\"text-align: right;\">\n",
       "      <th></th>\n",
       "      <th>minimum_age</th>\n",
       "      <th>maximum_age</th>\n",
       "      <th>gender</th>\n",
       "      <th>population</th>\n",
       "      <th>zipcode</th>\n",
       "      <th>geo_id</th>\n",
       "    </tr>\n",
       "  </thead>\n",
       "  <tbody>\n",
       "    <tr>\n",
       "      <th>0</th>\n",
       "      <td>10.0</td>\n",
       "      <td>14.0</td>\n",
       "      <td>female</td>\n",
       "      <td>75</td>\n",
       "      <td>39769</td>\n",
       "      <td>8600000US39769</td>\n",
       "    </tr>\n",
       "    <tr>\n",
       "      <th>1</th>\n",
       "      <td>85.0</td>\n",
       "      <td>NaN</td>\n",
       "      <td>female</td>\n",
       "      <td>130</td>\n",
       "      <td>44047</td>\n",
       "      <td>8600000US44047</td>\n",
       "    </tr>\n",
       "    <tr>\n",
       "      <th>2</th>\n",
       "      <td>30.0</td>\n",
       "      <td>34.0</td>\n",
       "      <td>female</td>\n",
       "      <td>11</td>\n",
       "      <td>42436</td>\n",
       "      <td>8600000US42436</td>\n",
       "    </tr>\n",
       "    <tr>\n",
       "      <th>3</th>\n",
       "      <td>22.0</td>\n",
       "      <td>24.0</td>\n",
       "      <td>male</td>\n",
       "      <td>22</td>\n",
       "      <td>99685</td>\n",
       "      <td>8600000US99685</td>\n",
       "    </tr>\n",
       "    <tr>\n",
       "      <th>4</th>\n",
       "      <td>67.0</td>\n",
       "      <td>69.0</td>\n",
       "      <td>male</td>\n",
       "      <td>69</td>\n",
       "      <td>04239</td>\n",
       "      <td>8600000US04239</td>\n",
       "    </tr>\n",
       "  </tbody>\n",
       "</table>\n",
       "</div>"
      ],
      "text/plain": [
       "   minimum_age  maximum_age  gender  population zipcode          geo_id\n",
       "0         10.0         14.0  female          75   39769  8600000US39769\n",
       "1         85.0          NaN  female         130   44047  8600000US44047\n",
       "2         30.0         34.0  female          11   42436  8600000US42436\n",
       "3         22.0         24.0    male          22   99685  8600000US99685\n",
       "4         67.0         69.0    male          69   04239  8600000US04239"
      ]
     },
     "execution_count": 45,
     "metadata": {},
     "output_type": "execute_result"
    }
   ],
   "source": [
    "# load the dataset\n",
    "df_zip_2000 = pd.read_csv('us-population-by-zip-code/population_by_zip_2000.csv')\n",
    "df_zip_2010 = pd.read_csv('us-population-by-zip-code/population_by_zip_2010.csv')\n",
    "\n",
    "df_zip_2000.head()"
   ]
  },
  {
   "cell_type": "code",
   "execution_count": 46,
   "metadata": {
    "collapsed": true
   },
   "outputs": [],
   "source": [
    "# sum up the population in a zipcode area\n",
    "df_2010 = df_zip_2010.groupby('zipcode').sum()['population'].to_frame()\n",
    "df_2000 = df_zip_2000.groupby('zipcode').sum()['population'].to_frame()\n",
    "df_2000['zip'] = df_2000.index\n",
    "df_2010['zip'] = df_2010.index"
   ]
  },
  {
   "cell_type": "code",
   "execution_count": 47,
   "metadata": {
    "collapsed": true,
    "scrolled": true
   },
   "outputs": [],
   "source": [
    "df_2000 = df_2000.reset_index()\n",
    "df_2010 = df_2010.reset_index()"
   ]
  },
  {
   "cell_type": "markdown",
   "metadata": {},
   "source": [
    "#### Data cleaning \n",
    "The zip code is not in the correct format, for example, zip code 00602 was written as 602. We need to add zeros at the beginning of some zip codes."
   ]
  },
  {
   "cell_type": "code",
   "execution_count": 48,
   "metadata": {},
   "outputs": [
    {
     "data": {
      "text/plain": [
       "array([  602,   603,   606, ..., 99926, 99927, 99929])"
      ]
     },
     "execution_count": 48,
     "metadata": {},
     "output_type": "execute_result"
    }
   ],
   "source": [
    "v_2010= df_2010['zip'].values\n",
    "v_2010"
   ]
  },
  {
   "cell_type": "code",
   "execution_count": 49,
   "metadata": {
    "collapsed": true
   },
   "outputs": [],
   "source": [
    "for index, row in df_2010.iterrows():\n",
    "    z, population, zipcode = row\n",
    "    if len(str(zipcode))==3:\n",
    "        df_2010.iloc[index, 2] = '00'+ str(zipcode)\n",
    "    elif len(str(zipcode))==4:\n",
    "        df_2010.iloc[index, 2] = '0'+ str(zipcode)\n",
    "    else:\n",
    "        df_2010.iloc[index, 2] = str(zipcode)\n",
    "df_2010.columns=['zipcode-org','popu-2010', 'zip']"
   ]
  },
  {
   "cell_type": "code",
   "execution_count": 50,
   "metadata": {},
   "outputs": [
    {
     "data": {
      "text/html": [
       "<div>\n",
       "<style>\n",
       "    .dataframe thead tr:only-child th {\n",
       "        text-align: right;\n",
       "    }\n",
       "\n",
       "    .dataframe thead th {\n",
       "        text-align: left;\n",
       "    }\n",
       "\n",
       "    .dataframe tbody tr th {\n",
       "        vertical-align: top;\n",
       "    }\n",
       "</style>\n",
       "<table border=\"1\" class=\"dataframe\">\n",
       "  <thead>\n",
       "    <tr style=\"text-align: right;\">\n",
       "      <th></th>\n",
       "      <th>zipcode-org</th>\n",
       "      <th>popu-2010</th>\n",
       "      <th>zip</th>\n",
       "    </tr>\n",
       "  </thead>\n",
       "  <tbody>\n",
       "    <tr>\n",
       "      <th>0</th>\n",
       "      <td>602</td>\n",
       "      <td>124560</td>\n",
       "      <td>00602</td>\n",
       "    </tr>\n",
       "    <tr>\n",
       "      <th>1</th>\n",
       "      <td>603</td>\n",
       "      <td>164067</td>\n",
       "      <td>00603</td>\n",
       "    </tr>\n",
       "    <tr>\n",
       "      <th>2</th>\n",
       "      <td>606</td>\n",
       "      <td>19845</td>\n",
       "      <td>00606</td>\n",
       "    </tr>\n",
       "    <tr>\n",
       "      <th>3</th>\n",
       "      <td>610</td>\n",
       "      <td>87048</td>\n",
       "      <td>00610</td>\n",
       "    </tr>\n",
       "    <tr>\n",
       "      <th>4</th>\n",
       "      <td>612</td>\n",
       "      <td>201030</td>\n",
       "      <td>00612</td>\n",
       "    </tr>\n",
       "  </tbody>\n",
       "</table>\n",
       "</div>"
      ],
      "text/plain": [
       "   zipcode-org  popu-2010    zip\n",
       "0          602     124560  00602\n",
       "1          603     164067  00603\n",
       "2          606      19845  00606\n",
       "3          610      87048  00610\n",
       "4          612     201030  00612"
      ]
     },
     "execution_count": 50,
     "metadata": {},
     "output_type": "execute_result"
    }
   ],
   "source": [
    "df_2010.head()"
   ]
  },
  {
   "cell_type": "markdown",
   "metadata": {},
   "source": [
    "#### Merge the data of 2000 with the data of 2010"
   ]
  },
  {
   "cell_type": "code",
   "execution_count": 52,
   "metadata": {},
   "outputs": [
    {
     "data": {
      "text/html": [
       "<div>\n",
       "<style>\n",
       "    .dataframe thead tr:only-child th {\n",
       "        text-align: right;\n",
       "    }\n",
       "\n",
       "    .dataframe thead th {\n",
       "        text-align: left;\n",
       "    }\n",
       "\n",
       "    .dataframe tbody tr th {\n",
       "        vertical-align: top;\n",
       "    }\n",
       "</style>\n",
       "<table border=\"1\" class=\"dataframe\">\n",
       "  <thead>\n",
       "    <tr style=\"text-align: right;\">\n",
       "      <th></th>\n",
       "      <th>zipcode</th>\n",
       "      <th>population</th>\n",
       "      <th>zip</th>\n",
       "      <th>zipcode-org</th>\n",
       "      <th>popu-2010</th>\n",
       "    </tr>\n",
       "  </thead>\n",
       "  <tbody>\n",
       "    <tr>\n",
       "      <th>0</th>\n",
       "      <td>00602</td>\n",
       "      <td>126126</td>\n",
       "      <td>00602</td>\n",
       "      <td>602</td>\n",
       "      <td>124560</td>\n",
       "    </tr>\n",
       "    <tr>\n",
       "      <th>1</th>\n",
       "      <td>00603</td>\n",
       "      <td>166590</td>\n",
       "      <td>00603</td>\n",
       "      <td>603</td>\n",
       "      <td>164067</td>\n",
       "    </tr>\n",
       "    <tr>\n",
       "      <th>2</th>\n",
       "      <td>00606</td>\n",
       "      <td>19347</td>\n",
       "      <td>00606</td>\n",
       "      <td>606</td>\n",
       "      <td>19845</td>\n",
       "    </tr>\n",
       "    <tr>\n",
       "      <th>3</th>\n",
       "      <td>00610</td>\n",
       "      <td>83925</td>\n",
       "      <td>00610</td>\n",
       "      <td>610</td>\n",
       "      <td>87048</td>\n",
       "    </tr>\n",
       "    <tr>\n",
       "      <th>4</th>\n",
       "      <td>00612</td>\n",
       "      <td>218190</td>\n",
       "      <td>00612</td>\n",
       "      <td>612</td>\n",
       "      <td>201030</td>\n",
       "    </tr>\n",
       "  </tbody>\n",
       "</table>\n",
       "</div>"
      ],
      "text/plain": [
       "  zipcode  population    zip  zipcode-org  popu-2010\n",
       "0   00602      126126  00602          602     124560\n",
       "1   00603      166590  00603          603     164067\n",
       "2   00606       19347  00606          606      19845\n",
       "3   00610       83925  00610          610      87048\n",
       "4   00612      218190  00612          612     201030"
      ]
     },
     "execution_count": 52,
     "metadata": {},
     "output_type": "execute_result"
    }
   ],
   "source": [
    "df_diff = pd.merge(df_2000, df_2010, left_on='zip', right_on='zip', how='inner')\n",
    "df_diff.head()"
   ]
  },
  {
   "cell_type": "code",
   "execution_count": 53,
   "metadata": {},
   "outputs": [
    {
     "name": "stdout",
     "output_type": "stream",
     "text": [
      "32369 33119 31377\n"
     ]
    }
   ],
   "source": [
    "df_diff['diff'] = df_diff['popu-2010']-df_diff['population']\n",
    "df_diff.sort_values('diff')\n",
    "print(len(df_2000), len(df_2010), len(df_diff))"
   ]
  },
  {
   "cell_type": "code",
   "execution_count": 80,
   "metadata": {},
   "outputs": [
    {
     "data": {
      "image/png": "[encoded data removed]",
      "text/plain": [
       "<Figure size 432x288 with 1 Axes>"
      ]
     },
     "metadata": {},
     "output_type": "display_data"
    }
   ],
   "source": [
    "plt.hist(df_diff['diff'],500)\n",
    "plt.xlabel('Change of Population')\n",
    "plt.ylabel('Number of location (zipcode)')\n",
    "plt.title('Distribution of pulation change from 2000 to 2010')\n",
    "plt.show()"
   ]
  },
  {
   "cell_type": "markdown",
   "metadata": {},
   "source": [
    "**From this histogram, we learn that there are more locations have an increase of population in the past 10 years.**"
   ]
  },
  {
   "cell_type": "markdown",
   "metadata": {},
   "source": [
    "to do: mapping the result.\n",
    "\n",
    "***"
   ]
  },
  {
   "cell_type": "code",
   "execution_count": 56,
   "metadata": {
    "collapsed": true
   },
   "outputs": [],
   "source": [
    "from pyzipcode import ZipCodeDatabase\n",
    "\n",
    "zcdb = ZipCodeDatabase()\n",
    "for i, row in df_diff.iterrows():\n",
    "    #calculate distance\n",
    "    try:\n",
    "        zipcode = zcdb[row.zip]\n",
    "        s = zipcode.state\n",
    "        df_diff.set_value(i, 'State', s)\n",
    "    except:\n",
    "        pass"
   ]
  },
  {
   "cell_type": "code",
   "execution_count": 82,
   "metadata": {},
   "outputs": [
    {
     "data": {
      "image/png": "[encoded data removed]",
      "text/plain": [
       "<Figure size 842.4x595.44 with 1 Axes>"
      ]
     },
     "metadata": {},
     "output_type": "display_data"
    }
   ],
   "source": [
    "data = df_diff.groupby('State').sum()['diff'].sort_values(ascending = False)\n",
    "df_data = data.to_frame()\n",
    "\n",
    "df_data['State'] = df_data.index\n",
    "df_data.columns = ['PopuChange', 'State']\n",
    "\n",
    "fig, ax = plt.subplots()\n",
    "fig.set_size_inches(11.7, 8.27)\n",
    "\n",
    "g = sns.barplot(y='PopuChange', x='State', data=df_data)\n",
    "g.set_xticklabels(g.get_xticklabels(), rotation=90);\n",
    "plt.show()"
   ]
  },
  {
   "cell_type": "markdown",
   "metadata": {
    "collapsed": true
   },
   "source": [
    "to do: map\n",
    "***"
   ]
  },
  {
   "cell_type": "code",
   "execution_count": 86,
   "metadata": {
    "scrolled": true
   },
   "outputs": [
    {
     "data": {
      "text/html": [
       "<div>\n",
       "<style>\n",
       "    .dataframe thead tr:only-child th {\n",
       "        text-align: right;\n",
       "    }\n",
       "\n",
       "    .dataframe thead th {\n",
       "        text-align: left;\n",
       "    }\n",
       "\n",
       "    .dataframe tbody tr th {\n",
       "        vertical-align: top;\n",
       "    }\n",
       "</style>\n",
       "<table border=\"1\" class=\"dataframe\">\n",
       "  <thead>\n",
       "    <tr style=\"text-align: right;\">\n",
       "      <th></th>\n",
       "      <th>minimum_age</th>\n",
       "      <th>maximum_age</th>\n",
       "      <th>gender</th>\n",
       "      <th>population</th>\n",
       "      <th>zipcode</th>\n",
       "      <th>geo_id</th>\n",
       "    </tr>\n",
       "  </thead>\n",
       "  <tbody>\n",
       "    <tr>\n",
       "      <th>1580515</th>\n",
       "      <td>67.0</td>\n",
       "      <td>69.0</td>\n",
       "      <td>female</td>\n",
       "      <td>188</td>\n",
       "      <td>00601</td>\n",
       "      <td>8600000US00601</td>\n",
       "    </tr>\n",
       "    <tr>\n",
       "      <th>1177021</th>\n",
       "      <td>0.0</td>\n",
       "      <td>4.0</td>\n",
       "      <td>female</td>\n",
       "      <td>738</td>\n",
       "      <td>00601</td>\n",
       "      <td>8600000US00601</td>\n",
       "    </tr>\n",
       "    <tr>\n",
       "      <th>1573109</th>\n",
       "      <td>18.0</td>\n",
       "      <td>19.0</td>\n",
       "      <td>male</td>\n",
       "      <td>353</td>\n",
       "      <td>00601</td>\n",
       "      <td>8600000US00601</td>\n",
       "    </tr>\n",
       "    <tr>\n",
       "      <th>89666</th>\n",
       "      <td>10.0</td>\n",
       "      <td>14.0</td>\n",
       "      <td>male</td>\n",
       "      <td>964</td>\n",
       "      <td>00601</td>\n",
       "      <td>8600000US00601</td>\n",
       "    </tr>\n",
       "    <tr>\n",
       "      <th>1520674</th>\n",
       "      <td>NaN</td>\n",
       "      <td>NaN</td>\n",
       "      <td>female</td>\n",
       "      <td>9774</td>\n",
       "      <td>00601</td>\n",
       "      <td>8600000US00601</td>\n",
       "    </tr>\n",
       "  </tbody>\n",
       "</table>\n",
       "</div>"
      ],
      "text/plain": [
       "         minimum_age  maximum_age  gender  population zipcode          geo_id\n",
       "1580515         67.0         69.0  female         188   00601  8600000US00601\n",
       "1177021          0.0          4.0  female         738   00601  8600000US00601\n",
       "1573109         18.0         19.0    male         353   00601  8600000US00601\n",
       "89666           10.0         14.0    male         964   00601  8600000US00601\n",
       "1520674          NaN          NaN  female        9774   00601  8600000US00601"
      ]
     },
     "execution_count": 86,
     "metadata": {},
     "output_type": "execute_result"
    }
   ],
   "source": [
    "df_zip_2000.sort_values('zipcode').head()"
   ]
  },
  {
   "cell_type": "code",
   "execution_count": null,
   "metadata": {
    "collapsed": true
   },
   "outputs": [],
   "source": []
  }
 ],
 "metadata": {
  "kernelspec": {
   "display_name": "Python 3",
   "language": "python",
   "name": "python3"
  },
  "language_info": {
   "codemirror_mode": {
    "name": "ipython",
    "version": 3
   },
   "file_extension": ".py",
   "mimetype": "text/x-python",
   "name": "python",
   "nbconvert_exporter": "python",
   "pygments_lexer": "ipython3",
   "version": "3.6.3"
  }
 },
 "nbformat": 4,
 "nbformat_minor": 2
}
